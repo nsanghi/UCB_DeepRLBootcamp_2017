{
 "cells": [
  {
   "cell_type": "code",
   "execution_count": 1,
   "metadata": {
    "collapsed": false
   },
   "outputs": [],
   "source": [
    "\"\"\"\n",
    "This project was developed by Peter Chen, Rocky Duan, Pieter Abbeel for the Berkeley Deep RL Bootcamp, August 2017.\n",
    "Bootcamp website with slides and lecture videos: https://sites.google.com/view/deep-rl-bootcamp/.\n",
    "\n",
    "Code adapted from Stanford CS231N materials: http://cs231n.stanford.edu/\n",
    "\"\"\"\n",
    "\n",
    "\n",
    "# note to properly run this lab, you should execute all code blocks sequentially\n",
    "import chainer\n",
    "import chainer.functions as F\n",
    "import chainer.links as L\n",
    "from chainer import training\n",
    "from chainer.training import extensions\n",
    "\n",
    "from collections import namedtuple, defaultdict, deque\n",
    "\n",
    "import numpy as np\n",
    "\n",
    "%matplotlib inline\n",
    "\n",
    "import matplotlib\n",
    "import matplotlib.pyplot as plt"
   ]
  },
  {
   "cell_type": "markdown",
   "metadata": {},
   "source": [
    "## Introduction to Chainer\n",
    "\n",
    "Chainer can be understood as Numpy plus the ability to record the computation graph of numerical operations to enable Automatic Differentiation. (Chainer actually also offers many other things; for example, a Numpy equivalent library that runs on GPU, but we will ignore them for now)"
   ]
  },
  {
   "cell_type": "markdown",
   "metadata": {},
   "source": [
    "Let's illustrate how Chainer works by a simple 1D regression task.\n",
    "\n",
    "Suppose we have observations from the following model $y = w x + b + \\epsilon$ where $\\epsilon \\sim \\mathcal{N}(0, 0.1)$ and the task is to estimate the linear model parameters $w, b$ from data."
   ]
  },
  {
   "cell_type": "code",
   "execution_count": 2,
   "metadata": {
    "collapsed": false
   },
   "outputs": [
    {
     "data": {
      "image/png": "[encoded data removed]",
      "text/plain": [
       "<matplotlib.figure.Figure at 0x25c57d35828>"
      ]
     },
     "metadata": {},
     "output_type": "display_data"
    }
   ],
   "source": [
    "# first generate some observations\n",
    "true_a = 1.3\n",
    "true_b = 0.4\n",
    "data_x = (np.arange(100) / 99.0 - .5).astype(np.float32) # Chainer assumes all the cpu computation is done in float32\n",
    "data_y = (data_x * true_a + true_b + np.random.randn(*data_x.shape) * 0.1).astype(np.float32)\n",
    "_ = plt.scatter(data_x, data_y, c='b')"
   ]
  },
  {
   "cell_type": "markdown",
   "metadata": {},
   "source": [
    "Chainer provides an abstraction called `Link` that describe some computation and keeps track of parameters for it. For instance, a `Linear` link describes a linear map on input and keeps track of `w` and bias `b`."
   ]
  },
  {
   "cell_type": "code",
   "execution_count": 3,
   "metadata": {
    "collapsed": false
   },
   "outputs": [
    {
     "name": "stdout",
     "output_type": "stream",
     "text": [
      "w: variable W([[ 1.12044334]])\n",
      "b: variable b([ 0.])\n",
      "Operations on chainer.Variable: variable([[ 124.12044525]]), type: <class 'chainer.variable.Variable'>\n",
      "numpy arrays: [[ 1.12044334]] [[ 124.12044525]]\n"
     ]
    }
   ],
   "source": [
    "model = L.Linear(in_size=1, out_size=1) # input is 1D data and output is also 1D data\n",
    "\n",
    "# Chainer will randomly initialize `w` and `b` for us.\n",
    "# we can take a look at their values\n",
    "print(\"w:\", model.W)\n",
    "print(\"b:\", model.b)\n",
    "\n",
    "# model.W and model.b have type `chainer.Variable`, \n",
    "#   which is a wrapper around Numpy array\n",
    "assert isinstance(model.W, chainer.Variable)\n",
    "\n",
    "# operations that involve `chainer.Variable` will produce\n",
    "#   `chainer.Variable` and this records the computation graph\n",
    "var_result = model.W + 123 # some random computation\n",
    "print(\"Operations on chainer.Variable: %s, type: %s\" % (var_result, type(var_result)))\n",
    "\n",
    "# the underlying numpy array can be accessed by `data` attribute\n",
    "print(\"numpy arrays:\", model.W.data, var_result.data)"
   ]
  },
  {
   "cell_type": "code",
   "execution_count": 4,
   "metadata": {
    "collapsed": false
   },
   "outputs": [
    {
     "data": {
      "image/png": "[encoded data removed]",
      "text/plain": [
       "<matplotlib.figure.Figure at 0x25c57d356d8>"
      ]
     },
     "metadata": {},
     "output_type": "display_data"
    }
   ],
   "source": [
    "# A chainer link is a callable object. calling it performs the\n",
    "#   forward computation. (in this case, it performs Wx + b)\n",
    "model_y = model(data_x[:, None]) # chainer's link usually assumes input is [Batch Size, Input Dimension]\n",
    "# `model_y` is a chainer variable so we use `.data` to access its numpy array for plotting\n",
    "\n",
    "# we can plot the model's current fit in red. it should be terrible because we haven't trained it yet\n",
    "_ = plt.plot(data_x, model_y.data[:,0], c='r')\n",
    "_ = plt.scatter(data_x, data_y, c='b')\n",
    "_ = plt.title(\"Initial model\")"
   ]
  },
  {
   "cell_type": "code",
   "execution_count": 5,
   "metadata": {
    "collapsed": false
   },
   "outputs": [
    {
     "name": "stdout",
     "output_type": "stream",
     "text": [
      "loss variable(0.1703501045703888)\n",
      "dloss/dW [[-0.02976883]]\n"
     ]
    }
   ],
   "source": [
    "# now let's walk through how to perform forward computation\n",
    "#  and use AD to get gradients\n",
    "\n",
    "# first we clear the gradients that are stored in the model\n",
    "model.cleargrads()\n",
    "# as we have seen we can perform forward computation by calling the link\n",
    "model_y = model(data_x[:, None])\n",
    "\n",
    "# remember that `model_y` is a chainer variable. to operate on chainer variable\n",
    "#    we will use functions from chainer.functions to operate on those objects.\n",
    "loss = F.mean(F.square(model_y - data_y[:, None]))\n",
    "# `loss` is a scalar chainer variable\n",
    "assert isinstance(loss, chainer.Variable)\n",
    "print(\"loss\", loss)\n",
    "# calculating gradients d loss /d params is as simple as\n",
    "loss.backward()\n",
    "\n",
    "# we can inspect the gradient of loss with respect to W\n",
    "print(\"dloss/dW\", model.W.grad)"
   ]
  },
  {
   "cell_type": "markdown",
   "metadata": {},
   "source": [
    "Now that we know how to calculate gradients, we can code up a simple loop to perform gradient descent to train this model:\n",
    "\n",
    "(Hint: if you run into weird problems, maybe the state has been messed up and you can try re-runing all the code blocks from the beginning)"
   ]
  },
  {
   "cell_type": "code",
   "execution_count": 7,
   "metadata": {
    "collapsed": false
   },
   "outputs": [
    {
     "name": "stdout",
     "output_type": "stream",
     "text": [
      "Itr 0 loss: variable(0.17440393567085266)\n",
      "Itr 25 loss: variable(0.011723754927515984)\n",
      "Itr 50 loss: variable(0.010094788856804371)\n",
      "Itr 75 loss: variable(0.009404695592820644)\n"
     ]
    },
    {
     "data": {
      "image/png": "[encoded data removed]",
      "text/plain": [
       "<matplotlib.figure.Figure at 0x25c58285828>"
      ]
     },
     "metadata": {},
     "output_type": "display_data"
    },
    {
     "data": {
      "image/png": "[encoded data removed]",
      "text/plain": [
       "<matplotlib.figure.Figure at 0x25c58485860>"
      ]
     },
     "metadata": {},
     "output_type": "display_data"
    }
   ],
   "source": [
    "# now we can perform gradient descent to improve this model\n",
    "model = L.Linear(in_size=1, out_size=1)\n",
    "losses = []\n",
    "learning_rate = 0.1\n",
    "\n",
    "for i in range(100):\n",
    "    model.cleargrads()\n",
    "    loss = F.mean(F.square(model(data_x[:, None]) - data_y[:, None]))\n",
    "    losses.append(float(loss.data))\n",
    "    ## *** YOUR CODE HERE TO PERFORM GRADIENT DESCENT ***\n",
    "    ## Hint: you could access gradients with model.W.grad, model.b.grad\n",
    "    ## Hint2: you could write data into a parameter with model.W.data[:] = some_numpy_array\n",
    "    ## Hint3: if your model doesn't learn, remember to try different learning rates\n",
    "    loss.backward()\n",
    "    model.W.data[:] = model.W.data - learning_rate * model.W.grad\n",
    "    model.b.data[:] = model.b.data - learning_rate * model.b.grad\n",
    "    if i % 25 == 0:\n",
    "        print(\"Itr\", i, \"loss:\", loss)\n",
    "plt.plot(np.array(losses))\n",
    "plt.title(\"Learning curve\")\n",
    "plt.figure()\n",
    "plt.plot(data_x, model(data_x[:, None])[:,0].data, c='r')\n",
    "plt.scatter(data_x, data_y, c='b')\n",
    "_ = plt.title(\"Trained model fitness\")\n"
   ]
  },
  {
   "cell_type": "markdown",
   "metadata": {},
   "source": [
    "## Train your first deep model\n",
    "\n",
    "Now we have learned the basics of Chainer. We can use it to train a deep model to classify MNIST digits. We will train a model on the MNIST dataset because the dataset is small.\n",
    "\n",
    "First we load the data and see what the images look like:"
   ]
  },
  {
   "cell_type": "code",
   "execution_count": 8,
   "metadata": {
    "collapsed": false,
    "scrolled": false
   },
   "outputs": [
    {
     "name": "stdout",
     "output_type": "stream",
     "text": [
      "Downloading from http://yann.lecun.com/exdb/mnist/train-images-idx3-ubyte.gz...\n",
      "Downloading from http://yann.lecun.com/exdb/mnist/train-labels-idx1-ubyte.gz...\n",
      "Downloading from http://yann.lecun.com/exdb/mnist/t10k-images-idx3-ubyte.gz...\n",
      "Downloading from http://yann.lecun.com/exdb/mnist/t10k-labels-idx1-ubyte.gz...\n",
      "train[i][0] is the ith image that's flattened, and has shape: (784,)\n",
      "train[i][1] is the ith image's label, such as: 3\n"
     ]
    },
    {
     "data": {
      "image/png": "[encoded data removed]",
      "text/plain": [
       "<matplotlib.figure.Figure at 0x25c582d33c8>"
      ]
     },
     "metadata": {},
     "output_type": "display_data"
    },
    {
     "data": {
      "image/png": "[encoded data removed]",
      "text/plain": [
       "<matplotlib.figure.Figure at 0x25c58417978>"
      ]
     },
     "metadata": {},
     "output_type": "display_data"
    }
   ],
   "source": [
    "train, test = chainer.datasets.get_mnist()\n",
    "# use train[data_point_index] to access data\n",
    "print(\"train[i][0] is the ith image that's flattened, and has shape:\", train[12][0].shape)\n",
    "print(\"train[i][1] is the ith image's label, such as:\", train[12][1])\n",
    "# here we visualize two of them\n",
    "plt.imshow(train[12][0].reshape([28, 28,]))\n",
    "plt.title(\"Label: %s\" % train[12][1])\n",
    "plt.figure()\n",
    "plt.imshow(train[42][0].reshape([28, 28,]))\n",
    "_ = plt.title(\"Label: %s\" % train[42][1])"
   ]
  },
  {
   "cell_type": "markdown",
   "metadata": {},
   "source": [
    "Next we will provide some boilerplate code and train a linear classifier as an example:"
   ]
  },
  {
   "cell_type": "code",
   "execution_count": 9,
   "metadata": {
    "collapsed": false
   },
   "outputs": [
    {
     "name": "stdout",
     "output_type": "stream",
     "text": [
      "loss: 2.32637786865; accuracy: 0.1875\n",
      "loss: 0.623403462172; accuracy: 0.8525\n",
      "loss: 0.433808253407; accuracy: 0.8875\n",
      "loss: 0.450970032215; accuracy: 0.865\n",
      "loss: 0.301508338749; accuracy: 0.92\n",
      "loss: 0.363145359159; accuracy: 0.9025\n",
      "loss: 0.288903466463; accuracy: 0.9175\n",
      "loss: 0.362475784719; accuracy: 0.8825\n",
      "loss: 0.330880084932; accuracy: 0.9025\n",
      "loss: 0.292346391678; accuracy: 0.9125\n",
      "loss: 0.340361382067; accuracy: 0.9075\n",
      "loss: 0.289862092137; accuracy: 0.9325\n",
      "loss: 0.242123694718; accuracy: 0.9375\n",
      "loss: 0.279702400565; accuracy: 0.915\n",
      "loss: 0.291682012975; accuracy: 0.9325\n",
      "loss: 0.20379083097; accuracy: 0.9375\n",
      "loss: 0.379635618925; accuracy: 0.8925\n",
      "loss: 0.200880576968; accuracy: 0.95\n",
      "loss: 0.356809022129; accuracy: 0.8975\n",
      "loss: 0.31707026571; accuracy: 0.905\n",
      "loss: 0.311201123297; accuracy: 0.92\n",
      "loss: 0.236485241055; accuracy: 0.9175\n",
      "loss: 0.385490244031; accuracy: 0.9\n",
      "loss: 0.297735439837; accuracy: 0.9125\n",
      "loss: 0.298599319011; accuracy: 0.9175\n",
      "loss: 0.314378879666; accuracy: 0.91\n"
     ]
    }
   ],
   "source": [
    "def run(model, batchsize=16, num_epochs=2):\n",
    "    \n",
    "    optimizer = chainer.optimizers.Adam() # we will use chainer's Adam implementation instead of writing our own gradient based optimization\n",
    "    optimizer.setup(model)\n",
    "    \n",
    "    stats = defaultdict(lambda: deque(maxlen=25))\n",
    "    for epoch in range(num_epochs):\n",
    "        train_iter = chainer.iterators.SerialIterator(train, batchsize, repeat=False, shuffle=True)\n",
    "        test_iter = chainer.iterators.SerialIterator(test, batchsize, repeat=False, shuffle=False)\n",
    "        \n",
    "        for itr, batch in enumerate(train_iter):\n",
    "            xs = np.concatenate([datum[0][None, :] for datum in batch])\n",
    "            ys = np.array([datum[1] for datum in batch])\n",
    "\n",
    "            logits = model(xs)\n",
    "\n",
    "            loss = F.softmax_cross_entropy(logits, ys)\n",
    "            model.cleargrads()\n",
    "            loss.backward()\n",
    "            optimizer.update()\n",
    "            \n",
    "            # calculate stats\n",
    "            stats[\"loss\"].append(float(loss.data))\n",
    "            stats[\"accuracy\"].append(float((logits.data.argmax(1) == ys).sum() / batchsize))\n",
    "            if itr % 300 == 0:\n",
    "                print(\"; \".join(\"%s: %s\" % (k, np.mean(vs)) for k, vs in stats.items()))\n",
    "\n",
    "# try a simple linear model\n",
    "run(L.Linear(None, 10))"
   ]
  },
  {
   "cell_type": "markdown",
   "metadata": {},
   "source": [
    "Next we will try to improve performance by training an MLP instead. A partial implementation is provided for you to fill in:"
   ]
  },
  {
   "cell_type": "code",
   "execution_count": 10,
   "metadata": {
    "collapsed": false
   },
   "outputs": [
    {
     "name": "stdout",
     "output_type": "stream",
     "text": [
      "loss: 2.21739864349; accuracy: 0.1875\n",
      "loss: 0.306004394293; accuracy: 0.905\n",
      "loss: 0.327111305594; accuracy: 0.8925\n",
      "loss: 0.19091583997; accuracy: 0.9325\n",
      "loss: 0.203831888437; accuracy: 0.935\n",
      "loss: 0.178587114811; accuracy: 0.94\n",
      "loss: 0.230790529549; accuracy: 0.9125\n",
      "loss: 0.120536990762; accuracy: 0.955\n",
      "loss: 0.0983500432968; accuracy: 0.97\n",
      "loss: 0.131609483361; accuracy: 0.9625\n",
      "loss: 0.153019272089; accuracy: 0.955\n",
      "loss: 0.110278730392; accuracy: 0.9675\n",
      "loss: 0.167230322361; accuracy: 0.955\n",
      "loss: 0.0959194073081; accuracy: 0.98\n",
      "loss: 0.0942494350672; accuracy: 0.975\n",
      "loss: 0.0659193661809; accuracy: 0.9825\n",
      "loss: 0.139719857275; accuracy: 0.955\n",
      "loss: 0.0792541769147; accuracy: 0.9725\n",
      "loss: 0.0973760402203; accuracy: 0.965\n",
      "loss: 0.0878339782357; accuracy: 0.965\n",
      "loss: 0.0833914357424; accuracy: 0.9775\n",
      "loss: 0.164301221371; accuracy: 0.975\n",
      "loss: 0.0672682484984; accuracy: 0.9725\n",
      "loss: 0.125264534056; accuracy: 0.9725\n",
      "loss: 0.0971367013454; accuracy: 0.9725\n",
      "loss: 0.109629745483; accuracy: 0.97\n"
     ]
    }
   ],
   "source": [
    "class MLP(chainer.Chain):\n",
    "\n",
    "    def __init__(self, n_units, n_out):\n",
    "        super(MLP, self).__init__()\n",
    "        with self.init_scope():\n",
    "            # the size of the inputs to each layer will be inferred\n",
    "            self.l1 = L.Linear(None, n_units)  # n_in -> n_units\n",
    "            self.l2 = L.Linear(None, n_units)  # n_units -> n_units\n",
    "            self.l3 = L.Linear(None, n_out)  # n_units -> n_out\n",
    "\n",
    "    def __call__(self, x):\n",
    "        # *** YOUR CODE HERE TO BUILD AN MLP W/ self.l1, self.l2, self.l3 ***\n",
    "        # \n",
    "        # Hint: you should make use of non-linearities / activation functions\n",
    "        #     https://docs.chainer.org/en/stable/reference/functions.html#activation-functions\n",
    "        # raise NotImplementedError()\n",
    "        model = self.l3(F.relu(self.l2(F.relu(self.l1(x)))))\n",
    "        return model\n",
    "        \n",
    "run(MLP(200, 10))"
   ]
  },
  {
   "cell_type": "markdown",
   "metadata": {},
   "source": [
    "Next you should try to implement logging test loss and see if the model is overfitting."
   ]
  },
  {
   "cell_type": "code",
   "execution_count": 13,
   "metadata": {
    "collapsed": false
   },
   "outputs": [
    {
     "name": "stdout",
     "output_type": "stream",
     "text": [
      "loss: 2.24053955078; accuracy: 0.1875\n",
      "test loss: 2.27826207695; test accuracy: 0.1574\n",
      "loss: 0.360660261512; accuracy: 0.89\n",
      "test loss: 0.31082406826; test accuracy: 0.9046\n",
      "loss: 0.265331202745; accuracy: 0.9175\n",
      "test loss: 0.243921798205; test accuracy: 0.9246\n",
      "loss: 0.234635159671; accuracy: 0.9275\n",
      "test loss: 0.222503611112; test accuracy: 0.9322\n",
      "loss: 0.146297695637; accuracy: 0.965\n",
      "test loss: 0.171500799441; test accuracy: 0.9476\n",
      "loss: 0.0893047168851; accuracy: 0.97\n",
      "test loss: 0.14612941885; test accuracy: 0.9521\n",
      "loss: 0.130058697462; accuracy: 0.965\n",
      "test loss: 0.16348095777; test accuracy: 0.9506\n",
      "loss: 0.105376957059; accuracy: 0.97\n",
      "test loss: 0.140600640213; test accuracy: 0.9574\n",
      "loss: 0.150830380917; accuracy: 0.9575\n",
      "test loss: 0.120079118395; test accuracy: 0.9624\n",
      "loss: 0.129597045183; accuracy: 0.965\n",
      "test loss: 0.140052433109; test accuracy: 0.9554\n",
      "loss: 0.12736086607; accuracy: 0.975\n",
      "test loss: 0.112278381538; test accuracy: 0.9652\n",
      "loss: 0.147863232493; accuracy: 0.965\n",
      "test loss: 0.106799489045; test accuracy: 0.9674\n",
      "loss: 0.104470072389; accuracy: 0.975\n",
      "test loss: 0.0993408039927; test accuracy: 0.9708\n",
      "loss: 0.0831632587314; accuracy: 0.97\n",
      "test loss: 0.101963608146; test accuracy: 0.9671\n",
      "loss: 0.105507903993; accuracy: 0.9575\n",
      "test loss: 0.0993561249971; test accuracy: 0.9704\n",
      "loss: 0.0968325579166; accuracy: 0.97\n",
      "test loss: 0.0986348132133; test accuracy: 0.9697\n",
      "loss: 0.116153758168; accuracy: 0.965\n",
      "test loss: 0.131808002603; test accuracy: 0.9581\n",
      "loss: 0.12225358814; accuracy: 0.9675\n",
      "test loss: 0.104459324741; test accuracy: 0.9684\n",
      "loss: 0.103647818565; accuracy: 0.97\n",
      "test loss: 0.0989249253273; test accuracy: 0.9704\n",
      "loss: 0.100251661539; accuracy: 0.965\n",
      "test loss: 0.0900972207665; test accuracy: 0.972\n",
      "loss: 0.0755695030093; accuracy: 0.9725\n",
      "test loss: 0.105342795849; test accuracy: 0.9671\n",
      "loss: 0.11632558316; accuracy: 0.9625\n",
      "test loss: 0.101600177276; test accuracy: 0.9707\n",
      "loss: 0.0599044162035; accuracy: 0.98\n",
      "test loss: 0.0875110439777; test accuracy: 0.9717\n",
      "loss: 0.0651039123535; accuracy: 0.98\n",
      "test loss: 0.0899361034513; test accuracy: 0.9717\n",
      "loss: 0.0693962621689; accuracy: 0.9775\n",
      "test loss: 0.0816112163901; test accuracy: 0.975\n",
      "loss: 0.0791184797883; accuracy: 0.985\n",
      "test loss: 0.0840476616621; test accuracy: 0.9717\n"
     ]
    }
   ],
   "source": [
    "def better_run(model, batchsize=16, num_epochs=2):\n",
    "\n",
    "    optimizer = chainer.optimizers.Adam() # we will use chainer's Adam implementation instead of writing our own gradient based optimization\n",
    "    optimizer.setup(model)\n",
    "    \n",
    "    stats = defaultdict(lambda: deque(maxlen=25))\n",
    "    for epoch in range(num_epochs):\n",
    "        train_iter = chainer.iterators.SerialIterator(train, batchsize, repeat=False, shuffle=True)\n",
    "        for itr, batch in enumerate(train_iter):\n",
    "            xs = np.concatenate([datum[0][None, :] for datum in batch])\n",
    "            ys = np.array([datum[1] for datum in batch])\n",
    "\n",
    "            logits = model(xs)\n",
    "\n",
    "            loss = F.softmax_cross_entropy(logits, ys)\n",
    "            model.cleargrads()\n",
    "            loss.backward()\n",
    "            optimizer.update()\n",
    "            \n",
    "            # calculate stats\n",
    "            stats[\"loss\"].append(float(loss.data))\n",
    "            stats[\"accuracy\"].append(float((logits.data.argmax(1) == ys).sum() / batchsize))\n",
    "            if itr % 300 == 0:\n",
    "                # print cumulative train set loss and accuracy\n",
    "                print(\"; \".join(\"%s: %s\" % (k, np.mean(vs)) for k, vs in stats.items()))\n",
    "                # *** YOUR CODE implement logging of stats on test set ***\n",
    "                # calculate loss / accuracy on test set\n",
    "                test_iter = chainer.iterators.SerialIterator(test, batchsize, repeat=False, shuffle=False)\n",
    "                test_loss = []\n",
    "                test_accuracy = []\n",
    "                for itr_test, batch_test in enumerate(test_iter):\n",
    "                    xs_test = np.concatenate([datum[0][None, :] for datum in batch_test])\n",
    "                    ys_test = np.array([datum[1] for datum in batch_test])\n",
    "                    logits_test = model(xs_test)\n",
    "                    loss = F.softmax_cross_entropy(logits_test, ys_test)\n",
    "                    test_loss.append(float(loss.data))\n",
    "                    test_accuracy.append(float((logits_test.data.argmax(1) == ys_test).sum() / batchsize))\n",
    "                print(\"test loss: %s; test accuracy: %s\" % (np.mean(test_loss), np.mean(test_accuracy)))    \n",
    "\n",
    "better_run(MLP(200, 10))"
   ]
  },
  {
   "cell_type": "markdown",
   "metadata": {},
   "source": [
    "Try different variants!\n",
    "\n",
    "- Does using a ConvNet improve performance (reduce overfitting?)\n",
    "- Try changing the learning rate and observe the effect\n",
    "- Does the model train if you give it correlated gradients? (consecutively sample many batches of \"1\", then many batches of \"2\", ... etc"
   ]
  }
 ],
 "metadata": {
  "kernelspec": {
   "display_name": "Python [conda env:deeprlbootcamp]",
   "language": "python",
   "name": "conda-env-deeprlbootcamp-py"
  },
  "language_info": {
   "codemirror_mode": {
    "name": "ipython",
    "version": 3
   },
   "file_extension": ".py",
   "mimetype": "text/x-python",
   "name": "python",
   "nbconvert_exporter": "python",
   "pygments_lexer": "ipython3",
   "version": "3.6.2"
  }
 },
 "nbformat": 4,
 "nbformat_minor": 1
}
